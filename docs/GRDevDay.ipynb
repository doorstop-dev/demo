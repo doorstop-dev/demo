{
 "metadata": {
  "name": ""
 },
 "nbformat": 3,
 "nbformat_minor": 0,
 "worksheets": [
  {
   "cells": [
    {
     "cell_type": "markdown",
     "metadata": {},
     "source": [
      "# Doorstop: Requirements Management Using Python and Version Control"
     ]
    },
    {
     "cell_type": "markdown",
     "metadata": {},
     "source": [
      "# Installation"
     ]
    },
    {
     "cell_type": "code",
     "collapsed": false,
     "input": [
      "import os\n",
      "import sys\n",
      "import subprocess\n",
      "\n",
      "# Uninstall old development installation\n",
      "args = [sys.executable, '-m', 'pip', 'uninstall', 'Doorstop']\n",
      "subprocess.call(args)\n",
      "\n",
      "# Install the latest version from PyPI\n",
      "args = [sys.executable, '-m', 'pip', 'install', 'Doorstop', '--upgrade']\n",
      "assert subprocess.call(args) == 0\n",
      "\n",
      "# Display the installed version\n",
      "import doorstop\n",
      "print(\"Doorstop\", doorstop.__version__, sep='==')"
     ],
     "language": "python",
     "metadata": {},
     "outputs": []
    },
    {
     "cell_type": "markdown",
     "metadata": {},
     "source": [
      "# Functions"
     ]
    },
    {
     "cell_type": "code",
     "collapsed": false,
     "input": [
      "tree = doorstop.build()\n",
      "\n",
      "print(tree)"
     ],
     "language": "python",
     "metadata": {},
     "outputs": []
    },
    {
     "cell_type": "code",
     "collapsed": false,
     "input": [
      "document = doorstop.find_document('sys')\n",
      "\n",
      "print(document)"
     ],
     "language": "python",
     "metadata": {},
     "outputs": []
    },
    {
     "cell_type": "code",
     "collapsed": false,
     "input": [
      "item = doorstop.find_item('sys1')\n",
      "\n",
      "print(item)"
     ],
     "language": "python",
     "metadata": {},
     "outputs": []
    },
    {
     "cell_type": "markdown",
     "metadata": {},
     "source": [
      "# Exceptions"
     ]
    },
    {
     "cell_type": "code",
     "collapsed": false,
     "input": [
      "doorstop.find_item('fake99')"
     ],
     "language": "python",
     "metadata": {},
     "outputs": []
    },
    {
     "cell_type": "markdown",
     "metadata": {},
     "source": [
      "# Classes"
     ]
    },
    {
     "cell_type": "markdown",
     "metadata": {},
     "source": [
      "## Items"
     ]
    },
    {
     "cell_type": "code",
     "collapsed": false,
     "input": [
      "item = doorstop.find_item('hlr003')\n",
      "\n",
      "print(repr(item))"
     ],
     "language": "python",
     "metadata": {},
     "outputs": []
    },
    {
     "cell_type": "code",
     "collapsed": false,
     "input": [
      "with open(item.path) as infile:\n",
      "    print(infile.read())"
     ],
     "language": "python",
     "metadata": {},
     "outputs": []
    },
    {
     "cell_type": "markdown",
     "metadata": {},
     "source": [
      "### Properties"
     ]
    },
    {
     "cell_type": "code",
     "collapsed": false,
     "input": [
      "print(\"path:\", item.path)\n",
      "print(\"relpath:\", item.relpath)"
     ],
     "language": "python",
     "metadata": {},
     "outputs": []
    },
    {
     "cell_type": "code",
     "collapsed": false,
     "input": [
      "print(\"id:\", item.id)\n",
      "print(\"prefix:\", item.prefix)\n",
      "print(\"number:\", item.number)"
     ],
     "language": "python",
     "metadata": {},
     "outputs": []
    },
    {
     "cell_type": "code",
     "collapsed": false,
     "input": [
      "item.level = \"1.2\"\n",
      "\n",
      "print(\"level:\", item.level)"
     ],
     "language": "python",
     "metadata": {},
     "outputs": []
    },
    {
     "cell_type": "code",
     "collapsed": false,
     "input": [
      "item.active = True\n",
      "item.derived = False\n",
      "\n",
      "print(\"active:\", item.active)\n",
      "print(\"derived:\", item.derived)\n",
      "print(\"normative:\", item.normative)\n",
      "print(\"heading:\", item.heading)"
     ],
     "language": "python",
     "metadata": {},
     "outputs": []
    },
    {
     "cell_type": "code",
     "collapsed": false,
     "input": [
      "item.text = \"Foo SHALL bar.\"\n",
      "\n",
      "print(\"text:\", item.text)\n"
     ],
     "language": "python",
     "metadata": {},
     "outputs": []
    },
    {
     "cell_type": "code",
     "collapsed": false,
     "input": [
      "item.ref = \"test_tutorial.py\"\n",
      "\n",
      "print(\"ref:\", item.ref)"
     ],
     "language": "python",
     "metadata": {},
     "outputs": []
    },
    {
     "cell_type": "code",
     "collapsed": false,
     "input": [
      "print(\"links:\", item.links)"
     ],
     "language": "python",
     "metadata": {},
     "outputs": []
    },
    {
     "cell_type": "markdown",
     "metadata": {},
     "source": [
      "### Actions"
     ]
    },
    {
     "cell_type": "code",
     "collapsed": false,
     "input": [
      "item.add_link('SYS999')\n",
      "\n",
      "print(item.links)"
     ],
     "language": "python",
     "metadata": {},
     "outputs": []
    },
    {
     "cell_type": "code",
     "collapsed": false,
     "input": [
      "item.remove_link('SYS999')\n",
      "\n",
      "print(item.links)"
     ],
     "language": "python",
     "metadata": {},
     "outputs": []
    },
    {
     "cell_type": "code",
     "collapsed": false,
     "input": [
      "item.ref = \"Represents an item file with linkable text.\"\n",
      "\n",
      "path, line = item.find_ref(ignored=tree.vcs.ignored)\n",
      "\n",
      "print(\"path:\", path)\n",
      "print(\"line:\", line)"
     ],
     "language": "python",
     "metadata": {},
     "outputs": []
    },
    {
     "cell_type": "code",
     "collapsed": false,
     "input": [
      "item.ref = \"test_tutorial.py\"\n",
      "\n",
      "path, line = item.find_ref(ignored=tree.vcs.ignored)\n",
      "\n",
      "print(\"path:\", path)\n",
      "print(\"line:\", line)"
     ],
     "language": "python",
     "metadata": {},
     "outputs": []
    },
    {
     "cell_type": "code",
     "collapsed": false,
     "input": [
      "document = tree.find_document(item.prefix)\n",
      "\n",
      "identifiers, documents = item.find_rlinks(document, tree)\n",
      "\n",
      "for identifier in identifiers:\n",
      "    print(\"identifier:\", identifier)\n",
      "for document in documents:\n",
      "    print(\"document:\", document)"
     ],
     "language": "python",
     "metadata": {},
     "outputs": []
    },
    {
     "cell_type": "markdown",
     "metadata": {},
     "source": [
      "### Creation + Deletion"
     ]
    },
    {
     "cell_type": "code",
     "collapsed": false,
     "input": [
      "import tempfile\n",
      "from doorstop import Item\n",
      "\n",
      "path = root = tempfile.mkdtemp()\n",
      "\n",
      "item = Item.new(path, root, 'PREF', '-', 5, 42)\n",
      "\n",
      "print(item)\n"
     ],
     "language": "python",
     "metadata": {},
     "outputs": []
    },
    {
     "cell_type": "code",
     "collapsed": false,
     "input": [
      "print(path)\n",
      "\n",
      "item2 = Item(item.path)\n",
      "\n",
      "print(repr(item2))"
     ],
     "language": "python",
     "metadata": {},
     "outputs": []
    },
    {
     "cell_type": "code",
     "collapsed": false,
     "input": [
      "item.delete()\n"
     ],
     "language": "python",
     "metadata": {},
     "outputs": []
    },
    {
     "cell_type": "markdown",
     "metadata": {},
     "source": [
      "## Documents"
     ]
    },
    {
     "cell_type": "code",
     "collapsed": false,
     "input": [
      "document = doorstop.find_document('hlt')\n",
      "\n",
      "print(repr(document))"
     ],
     "language": "python",
     "metadata": {},
     "outputs": []
    },
    {
     "cell_type": "code",
     "collapsed": false,
     "input": [
      "with open(document.config) as infile:\n",
      "    print(infile.read())"
     ],
     "language": "python",
     "metadata": {},
     "outputs": []
    },
    {
     "cell_type": "markdown",
     "metadata": {},
     "source": [
      "### Properties"
     ]
    },
    {
     "cell_type": "code",
     "collapsed": false,
     "input": [
      "print(\"path:\", document.path)\n",
      "print(\"relpath:\", document.relpath)"
     ],
     "language": "python",
     "metadata": {},
     "outputs": []
    },
    {
     "cell_type": "code",
     "collapsed": false,
     "input": [
      "print(\"prefix:\", document.prefix)\n",
      "print(\"sep:\", document.sep)\n",
      "print(\"digits:\", document.digits)"
     ],
     "language": "python",
     "metadata": {},
     "outputs": []
    },
    {
     "cell_type": "code",
     "collapsed": false,
     "input": [
      "print(\"parent:\", document.parent)"
     ],
     "language": "python",
     "metadata": {},
     "outputs": []
    },
    {
     "cell_type": "code",
     "collapsed": false,
     "input": [
      "for item in document:\n",
      "    print(item)"
     ],
     "language": "python",
     "metadata": {},
     "outputs": []
    },
    {
     "cell_type": "markdown",
     "metadata": {},
     "source": [
      "### Actions"
     ]
    },
    {
     "cell_type": "code",
     "collapsed": false,
     "input": [
      "item = document.add()\n",
      "\n",
      "print(item)"
     ],
     "language": "python",
     "metadata": {},
     "outputs": []
    },
    {
     "cell_type": "code",
     "collapsed": false,
     "input": [
      "document.find_item(item.id)"
     ],
     "language": "python",
     "metadata": {},
     "outputs": []
    },
    {
     "cell_type": "code",
     "collapsed": false,
     "input": [
      "document.remove(item.id)\n"
     ],
     "language": "python",
     "metadata": {},
     "outputs": []
    },
    {
     "cell_type": "code",
     "collapsed": false,
     "input": [
      "document.find_item(item.id)"
     ],
     "language": "python",
     "metadata": {},
     "outputs": []
    },
    {
     "cell_type": "markdown",
     "metadata": {},
     "source": [
      "### Creation + Deletion"
     ]
    },
    {
     "cell_type": "code",
     "collapsed": false,
     "input": [
      "import tempfile\n",
      "from doorstop import Document\n",
      "\n",
      "path = root = tempfile.mkdtemp()\n",
      "\n",
      "document = Document.new(path, root, 'PREF')\n",
      "\n",
      "print(document)"
     ],
     "language": "python",
     "metadata": {},
     "outputs": []
    },
    {
     "cell_type": "code",
     "collapsed": false,
     "input": [
      "print(path)\n",
      "\n",
      "document2 = Document(path)\n",
      "\n",
      "print(repr(document))"
     ],
     "language": "python",
     "metadata": {},
     "outputs": []
    },
    {
     "cell_type": "code",
     "collapsed": false,
     "input": [
      "document.delete()"
     ],
     "language": "python",
     "metadata": {},
     "outputs": []
    },
    {
     "cell_type": "markdown",
     "metadata": {},
     "source": [
      "## Trees"
     ]
    },
    {
     "cell_type": "code",
     "collapsed": false,
     "input": [
      "tree = doorstop.build()\n",
      "\n",
      "print(repr(tree))"
     ],
     "language": "python",
     "metadata": {},
     "outputs": []
    },
    {
     "cell_type": "markdown",
     "metadata": {},
     "source": [
      "### Properites"
     ]
    },
    {
     "cell_type": "code",
     "collapsed": false,
     "input": [
      "print(\"vcs:\", tree.vcs)"
     ],
     "language": "python",
     "metadata": {},
     "outputs": []
    },
    {
     "cell_type": "markdown",
     "metadata": {},
     "source": [
      "### Actions"
     ]
    },
    {
     "cell_type": "code",
     "collapsed": false,
     "input": [
      "path = os.path.join(tree.root, 'a', 'temporaty', 'directory')\n",
      "document = tree.new(path, 'TMP', parent='SYS')\n",
      "\n",
      "print(document.relpath)\n",
      "\n",
      "document.delete()"
     ],
     "language": "python",
     "metadata": {},
     "outputs": []
    },
    {
     "cell_type": "code",
     "collapsed": false,
     "input": [
      "item = tree.add('sys')\n",
      "\n",
      "print(item.relpath)"
     ],
     "language": "python",
     "metadata": {},
     "outputs": []
    },
    {
     "cell_type": "code",
     "collapsed": false,
     "input": [
      "tree.remove(item.id)"
     ],
     "language": "python",
     "metadata": {},
     "outputs": []
    },
    {
     "cell_type": "code",
     "collapsed": false,
     "input": [
      "tree.link('llt42', 'hlr2')"
     ],
     "language": "python",
     "metadata": {},
     "outputs": []
    },
    {
     "cell_type": "code",
     "collapsed": false,
     "input": [
      "tree.unlink('llt42', 'hlr2')"
     ],
     "language": "python",
     "metadata": {},
     "outputs": []
    },
    {
     "cell_type": "markdown",
     "metadata": {},
     "source": [
      "# Validation"
     ]
    },
    {
     "cell_type": "code",
     "collapsed": false,
     "input": [
      "tree = doorstop.build()\n",
      "\n",
      "for issue in tree.issues():\n",
      "    print(issue)"
     ],
     "language": "python",
     "metadata": {},
     "outputs": []
    },
    {
     "cell_type": "code",
     "collapsed": false,
     "input": [
      "item = tree.find_item('hlr2')\n",
      "item.links = []\n",
      "\n",
      "\n",
      "item = tree.find_item('llr2')\n",
      "item.add_link('fake99')\n",
      "\n",
      "\n",
      "for issue in tree.issues():\n",
      "    print(issue)"
     ],
     "language": "python",
     "metadata": {},
     "outputs": []
    },
    {
     "cell_type": "code",
     "collapsed": false,
     "input": [
      "from doorstop.common import DoorstopWarning, DoorstopInfo\n",
      "\n",
      "def document_hook(document, tree):\n",
      "    if len(document.items) <= 50:\n",
      "        yield DoorstopInfo(\"50 or fewer items\")\n",
      "\n",
      "def item_hook(item, document, tree):\n",
      "    if 'tempora' in item.text:\n",
      "        yield DoorstopWarning(\"'tempora' in text\")\n",
      "\n",
      "for issue in tree.issues(document_hook=document_hook, item_hook=item_hook):\n",
      "    print(issue)"
     ],
     "language": "python",
     "metadata": {},
     "outputs": []
    }
   ],
   "metadata": {}
  }
 ]
}