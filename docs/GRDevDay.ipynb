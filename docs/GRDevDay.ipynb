{
 "metadata": {
  "name": ""
 },
 "nbformat": 3,
 "nbformat_minor": 0,
 "worksheets": [
  {
   "cells": [
    {
     "cell_type": "markdown",
     "metadata": {},
     "source": [
      "# Doorstop: Requirements Management Using Python and Version Control"
     ]
    },
    {
     "cell_type": "code",
     "collapsed": false,
     "input": [
      "import logging\n",
      "logging.basicConfig(format=\"%(levelname)s: %(message)s\")"
     ],
     "language": "python",
     "metadata": {},
     "outputs": [],
     "prompt_number": 123
    },
    {
     "cell_type": "markdown",
     "metadata": {},
     "source": [
      "# Installation"
     ]
    },
    {
     "cell_type": "code",
     "collapsed": false,
     "input": [
      "import os\n",
      "import sys\n",
      "import subprocess\n",
      "\n",
      "args = [sys.executable, '-m', 'pip', 'uninstall', 'Doorstop']\n",
      "subprocess.call(args)\n",
      "\n",
      "args = [sys.executable, '-m', 'pip', 'install', 'Doorstop', '--upgrade']\n",
      "assert subprocess.call(args) == 0"
     ],
     "language": "python",
     "metadata": {},
     "outputs": [],
     "prompt_number": 124
    },
    {
     "cell_type": "code",
     "collapsed": false,
     "input": [
      "import doorstop\n",
      "\n",
      "print(\"Doorstop\", doorstop.__version__, sep='==')"
     ],
     "language": "python",
     "metadata": {},
     "outputs": [
      {
       "output_type": "stream",
       "stream": "stdout",
       "text": [
        "Doorstop==0.4.2\n"
       ]
      }
     ],
     "prompt_number": 125
    },
    {
     "cell_type": "markdown",
     "metadata": {},
     "source": [
      "# Functions"
     ]
    },
    {
     "cell_type": "code",
     "collapsed": false,
     "input": [
      "tree = doorstop.build()\n",
      "\n",
      "print(tree)"
     ],
     "language": "python",
     "metadata": {},
     "outputs": [
      {
       "output_type": "stream",
       "stream": "stdout",
       "text": [
        "SYS <- [ HLR <- [ HLT, LLR <- [ LLT ] ] ]\n"
       ]
      }
     ],
     "prompt_number": 126
    },
    {
     "cell_type": "code",
     "collapsed": false,
     "input": [
      "document = doorstop.find_document('sys')\n",
      "\n",
      "print(document)"
     ],
     "language": "python",
     "metadata": {},
     "outputs": [
      {
       "output_type": "stream",
       "stream": "stdout",
       "text": [
        "SYS\n"
       ]
      }
     ],
     "prompt_number": 127
    },
    {
     "cell_type": "code",
     "collapsed": false,
     "input": [
      "item = doorstop.find_item('sys1')\n",
      "\n",
      "print(item)"
     ],
     "language": "python",
     "metadata": {},
     "outputs": [
      {
       "output_type": "stream",
       "stream": "stdout",
       "text": [
        "SYS001\n"
       ]
      }
     ],
     "prompt_number": 128
    },
    {
     "cell_type": "markdown",
     "metadata": {},
     "source": [
      "# Exceptions"
     ]
    },
    {
     "cell_type": "code",
     "collapsed": false,
     "input": [
      "item = doorstop.find_item('fake99')"
     ],
     "language": "python",
     "metadata": {},
     "outputs": [
      {
       "ename": "DoorstopError",
       "evalue": "no matching ID: fake99",
       "output_type": "pyerr",
       "traceback": [
        "\u001b[0;31m---------------------------------------------------------------------------\u001b[0m\n\u001b[0;31mDoorstopError\u001b[0m                             Traceback (most recent call last)",
        "\u001b[0;32m<ipython-input-129-ddf0677fe79c>\u001b[0m in \u001b[0;36m<module>\u001b[0;34m()\u001b[0m\n\u001b[0;32m----> 1\u001b[0;31m \u001b[0mitem\u001b[0m \u001b[0;34m=\u001b[0m \u001b[0mdoorstop\u001b[0m\u001b[0;34m.\u001b[0m\u001b[0mfind_item\u001b[0m\u001b[0;34m(\u001b[0m\u001b[0;34m'fake99'\u001b[0m\u001b[0;34m)\u001b[0m\u001b[0;34m\u001b[0m\u001b[0m\n\u001b[0m",
        "\u001b[0;32m/Users/Browning/Drive/Programs/Desktop/Doorstop/doorstop/core/tree.py\u001b[0m in \u001b[0;36mfind_item\u001b[0;34m(identifier)\u001b[0m\n\u001b[1;32m    513\u001b[0m     \u001b[0;32mif\u001b[0m \u001b[0m_TREE\u001b[0m \u001b[0;32mis\u001b[0m \u001b[0;32mNone\u001b[0m\u001b[0;34m:\u001b[0m\u001b[0;34m\u001b[0m\u001b[0m\n\u001b[1;32m    514\u001b[0m         \u001b[0m_TREE\u001b[0m \u001b[0;34m=\u001b[0m \u001b[0mbuild\u001b[0m\u001b[0;34m(\u001b[0m\u001b[0;34m)\u001b[0m\u001b[0;34m\u001b[0m\u001b[0m\n\u001b[0;32m--> 515\u001b[0;31m     \u001b[0mitem\u001b[0m \u001b[0;34m=\u001b[0m \u001b[0m_TREE\u001b[0m\u001b[0;34m.\u001b[0m\u001b[0mfind_item\u001b[0m\u001b[0;34m(\u001b[0m\u001b[0midentifier\u001b[0m\u001b[0;34m)\u001b[0m\u001b[0;34m\u001b[0m\u001b[0m\n\u001b[0m\u001b[1;32m    516\u001b[0m     \u001b[0;32mreturn\u001b[0m \u001b[0mitem\u001b[0m\u001b[0;34m\u001b[0m\u001b[0m\n",
        "\u001b[0;32m/Users/Browning/Drive/Programs/Desktop/Doorstop/doorstop/core/tree.py\u001b[0m in \u001b[0;36mfind_item\u001b[0;34m(self, identifier, _kind)\u001b[0m\n\u001b[1;32m    346\u001b[0m             \u001b[0mself\u001b[0m\u001b[0;34m.\u001b[0m\u001b[0m_item_cache\u001b[0m\u001b[0;34m[\u001b[0m\u001b[0midentifier\u001b[0m\u001b[0;34m]\u001b[0m \u001b[0;34m=\u001b[0m \u001b[0;32mNone\u001b[0m\u001b[0;34m\u001b[0m\u001b[0m\n\u001b[1;32m    347\u001b[0m \u001b[0;34m\u001b[0m\u001b[0m\n\u001b[0;32m--> 348\u001b[0;31m         \u001b[0;32mraise\u001b[0m \u001b[0mDoorstopError\u001b[0m\u001b[0;34m(\u001b[0m\u001b[0;34m\"no matching{} ID: {}\"\u001b[0m\u001b[0;34m.\u001b[0m\u001b[0mformat\u001b[0m\u001b[0;34m(\u001b[0m\u001b[0m_kind\u001b[0m\u001b[0;34m,\u001b[0m \u001b[0midentifier\u001b[0m\u001b[0;34m)\u001b[0m\u001b[0;34m)\u001b[0m\u001b[0;34m\u001b[0m\u001b[0m\n\u001b[0m\u001b[1;32m    349\u001b[0m \u001b[0;34m\u001b[0m\u001b[0m\n\u001b[1;32m    350\u001b[0m     \u001b[0;32mdef\u001b[0m \u001b[0mvalid\u001b[0m\u001b[0;34m(\u001b[0m\u001b[0mself\u001b[0m\u001b[0;34m,\u001b[0m \u001b[0mdocument_hook\u001b[0m\u001b[0;34m=\u001b[0m\u001b[0;32mNone\u001b[0m\u001b[0;34m,\u001b[0m \u001b[0mitem_hook\u001b[0m\u001b[0;34m=\u001b[0m\u001b[0;32mNone\u001b[0m\u001b[0;34m)\u001b[0m\u001b[0;34m:\u001b[0m\u001b[0;34m\u001b[0m\u001b[0m\n",
        "\u001b[0;31mDoorstopError\u001b[0m: no matching ID: fake99"
       ]
      }
     ],
     "prompt_number": 129
    },
    {
     "cell_type": "markdown",
     "metadata": {},
     "source": [
      "# Classes"
     ]
    },
    {
     "cell_type": "markdown",
     "metadata": {},
     "source": [
      "## Items"
     ]
    },
    {
     "cell_type": "code",
     "collapsed": false,
     "input": [
      "item = doorstop.find_item('hlr003')\n",
      "\n",
      "print(repr(item))"
     ],
     "language": "python",
     "metadata": {},
     "outputs": [
      {
       "output_type": "stream",
       "stream": "stdout",
       "text": [
        "Item('/Users/Browning/Drive/Programs/Desktop/Doorstop-Demos/Random/reqs/hlr/HLR003.yml')\n"
       ]
      }
     ],
     "prompt_number": 130
    },
    {
     "cell_type": "markdown",
     "metadata": {},
     "source": [
      "### Properties"
     ]
    },
    {
     "cell_type": "code",
     "collapsed": false,
     "input": [
      "print(\"path:\", item.path)\n",
      "print(\"root:\", item.root)\n",
      "print(\"relpath:\", item.relpath)"
     ],
     "language": "python",
     "metadata": {},
     "outputs": [
      {
       "output_type": "stream",
       "stream": "stdout",
       "text": [
        "path: /Users/Browning/Drive/Programs/Desktop/Doorstop-Demos/Random/reqs/hlr/HLR003.yml\n",
        "root: /Users/Browning/Drive/Programs/Desktop/Doorstop-Demos/Random\n",
        "relpath: @/reqs/hlr/HLR003.yml\n"
       ]
      }
     ],
     "prompt_number": 131
    },
    {
     "cell_type": "code",
     "collapsed": false,
     "input": [
      "print(\"id:\", item.id)\n",
      "print(\"prefix:\", item.prefix)\n",
      "print(\"number:\", item.number)"
     ],
     "language": "python",
     "metadata": {},
     "outputs": [
      {
       "output_type": "stream",
       "stream": "stdout",
       "text": [
        "id: HLR003\n",
        "prefix: HLR\n",
        "number: 3\n"
       ]
      }
     ],
     "prompt_number": 132
    },
    {
     "cell_type": "code",
     "collapsed": false,
     "input": [
      "_backup = item.level\n",
      "item.level = \"1.2.3\"\n",
      "\n",
      "print(\"level:\", item.level)\n",
      "print(\"depth:\", item.depth)\n",
      "\n",
      "item.level = _backup"
     ],
     "language": "python",
     "metadata": {},
     "outputs": [
      {
       "output_type": "stream",
       "stream": "stdout",
       "text": [
        "level: (1, 2, 3)\n",
        "depth: 3\n"
       ]
      }
     ],
     "prompt_number": 133
    },
    {
     "cell_type": "code",
     "collapsed": false,
     "input": [
      "item.active = True\n",
      "item.derived = False\n",
      "\n",
      "print(\"active:\", item.active)\n",
      "print(\"derived:\", item.derived)\n",
      "print(\"normative:\", item.normative)\n",
      "print(\"heading:\", item.heading)"
     ],
     "language": "python",
     "metadata": {},
     "outputs": [
      {
       "output_type": "stream",
       "stream": "stdout",
       "text": [
        "active: True\n",
        "derived: False\n",
        "normative: True\n",
        "heading: False\n"
       ]
      }
     ],
     "prompt_number": 134
    },
    {
     "cell_type": "code",
     "collapsed": false,
     "input": [
      "item.text = \"Foo SHALL bar.\"\n",
      "item.ref = \"Represents an item file with linkable text.\"\n",
      "\n",
      "print(\"text:\", item.text)\n",
      "print(\"ref:\", item.ref)"
     ],
     "language": "python",
     "metadata": {},
     "outputs": [
      {
       "output_type": "stream",
       "stream": "stdout",
       "text": [
        "text: Foo SHALL bar.\n",
        "ref: Represents an item file with linkable text.\n"
       ]
      }
     ],
     "prompt_number": 135
    },
    {
     "cell_type": "code",
     "collapsed": false,
     "input": [
      "print(\"links:\", item.links)"
     ],
     "language": "python",
     "metadata": {},
     "outputs": [
      {
       "output_type": "stream",
       "stream": "stdout",
       "text": [
        "links: ['SYS002', 'SYS008', 'SYS028']\n"
       ]
      }
     ],
     "prompt_number": 136
    },
    {
     "cell_type": "markdown",
     "metadata": {},
     "source": [
      "### Actions"
     ]
    },
    {
     "cell_type": "code",
     "collapsed": false,
     "input": [
      "item.add_link('SYS999')\n",
      "\n",
      "print(item.links)"
     ],
     "language": "python",
     "metadata": {},
     "outputs": [
      {
       "output_type": "stream",
       "stream": "stdout",
       "text": [
        "['SYS002', 'SYS008', 'SYS028', 'SYS999']\n"
       ]
      }
     ],
     "prompt_number": 137
    },
    {
     "cell_type": "code",
     "collapsed": false,
     "input": [
      "item.remove_link('SYS999')\n",
      "\n",
      "print(item.links)"
     ],
     "language": "python",
     "metadata": {},
     "outputs": [
      {
       "output_type": "stream",
       "stream": "stdout",
       "text": [
        "['SYS002', 'SYS008', 'SYS028']\n"
       ]
      }
     ],
     "prompt_number": 138
    },
    {
     "cell_type": "code",
     "collapsed": false,
     "input": [
      "path, line = item.find_ref(ignored=tree.vcs.ignored)\n",
      "\n",
      "print(\"path:\", path)\n",
      "print(\"lind:\", line)"
     ],
     "language": "python",
     "metadata": {},
     "outputs": [
      {
       "output_type": "stream",
       "stream": "stdout",
       "text": [
        "path: demo/core/item.py\n",
        "lind: 16\n"
       ]
      }
     ],
     "prompt_number": 139
    },
    {
     "cell_type": "code",
     "collapsed": false,
     "input": [
      "document = tree.find_document(item.prefix)\n",
      "\n",
      "identifiers, child_documents = item.find_rlinks(document, tree)\n",
      "\n",
      "for identifier in identifiers:\n",
      "    print(\"identifier:\", identifier)\n",
      "for child_document in child_documents:\n",
      "    print(\"child document:\", child_document)"
     ],
     "language": "python",
     "metadata": {},
     "outputs": [
      {
       "output_type": "stream",
       "stream": "stdout",
       "text": [
        "identifier: HLT031\n",
        "identifier: HLT057\n",
        "identifier: HLT103\n",
        "identifier: HLT107\n",
        "identifier: HLT142\n",
        "identifier: HLT172\n",
        "identifier: HLT196\n",
        "identifier: LLR007\n",
        "identifier: LLR031\n",
        "identifier: LLR036\n",
        "identifier: LLR119\n",
        "identifier: LLR156\n",
        "child document: HLT\n",
        "child document: LLR\n"
       ]
      }
     ],
     "prompt_number": 140
    },
    {
     "cell_type": "markdown",
     "metadata": {},
     "source": [
      "### Creation + Deletion"
     ]
    },
    {
     "cell_type": "code",
     "collapsed": false,
     "input": [
      "import tempfile\n",
      "from doorstop import Item\n",
      "\n",
      "path = root = tempfile.mkdtemp()\n",
      "\n",
      "item = Item.new(path, root, 'PREF', '-', 5, 42)\n",
      "\n",
      "print(item)\n"
     ],
     "language": "python",
     "metadata": {},
     "outputs": [
      {
       "output_type": "stream",
       "stream": "stdout",
       "text": [
        "PREF-00042\n"
       ]
      }
     ],
     "prompt_number": 141
    },
    {
     "cell_type": "code",
     "collapsed": false,
     "input": [
      "print(path)\n",
      "\n",
      "item2 = Item(item.path)\n",
      "\n",
      "print(repr(item2))"
     ],
     "language": "python",
     "metadata": {},
     "outputs": [
      {
       "output_type": "stream",
       "stream": "stdout",
       "text": [
        "/var/folders/44/1dmfscsx0qxf40k1_zdjlvcr0000gn/T/tmpa_04tb\n",
        "Item('/var/folders/44/1dmfscsx0qxf40k1_zdjlvcr0000gn/T/tmpa_04tb/PREF-00042.yml')\n"
       ]
      }
     ],
     "prompt_number": 142
    },
    {
     "cell_type": "code",
     "collapsed": false,
     "input": [
      "item.delete()\n"
     ],
     "language": "python",
     "metadata": {},
     "outputs": [],
     "prompt_number": 143
    },
    {
     "cell_type": "markdown",
     "metadata": {},
     "source": [
      "## Documents"
     ]
    },
    {
     "cell_type": "code",
     "collapsed": false,
     "input": [
      "document = doorstop.find_document('hlt')"
     ],
     "language": "python",
     "metadata": {},
     "outputs": [],
     "prompt_number": 144
    },
    {
     "cell_type": "markdown",
     "metadata": {},
     "source": [
      "### Properties"
     ]
    },
    {
     "cell_type": "code",
     "collapsed": false,
     "input": [
      "print(\"path:\", document.path)\n",
      "print(\"root:\", document.root)\n",
      "print(\"relpath:\", document.relpath)"
     ],
     "language": "python",
     "metadata": {},
     "outputs": [
      {
       "output_type": "stream",
       "stream": "stdout",
       "text": [
        "path: /Users/Browning/Drive/Programs/Desktop/Doorstop-Demos/Random/demo/cli/test/docs\n",
        "root: /Users/Browning/Drive/Programs/Desktop/Doorstop-Demos/Random\n",
        "relpath: @/demo/cli/test/docs\n"
       ]
      }
     ],
     "prompt_number": 145
    },
    {
     "cell_type": "code",
     "collapsed": false,
     "input": [
      "print(\"prefix:\", document.prefix)\n",
      "print(\"sep:\", document.sep)\n",
      "print(\"digits:\", document.digits)"
     ],
     "language": "python",
     "metadata": {},
     "outputs": [
      {
       "output_type": "stream",
       "stream": "stdout",
       "text": [
        "prefix: HLT\n",
        "sep: \n",
        "digits: 3\n"
       ]
      }
     ],
     "prompt_number": 146
    },
    {
     "cell_type": "code",
     "collapsed": false,
     "input": [
      "print(\"parent:\", document.parent)"
     ],
     "language": "python",
     "metadata": {},
     "outputs": [
      {
       "output_type": "stream",
       "stream": "stdout",
       "text": [
        "parent: HLR\n"
       ]
      }
     ],
     "prompt_number": 147
    },
    {
     "cell_type": "code",
     "collapsed": false,
     "input": [
      "for item in document:\n",
      "    print(item)"
     ],
     "language": "python",
     "metadata": {},
     "outputs": [
      {
       "output_type": "stream",
       "stream": "stdout",
       "text": [
        "HLT001\n",
        "HLT002\n",
        "HLT003\n",
        "HLT004\n",
        "HLT005\n",
        "HLT006\n",
        "HLT007\n",
        "HLT008\n",
        "HLT009\n",
        "HLT010\n",
        "HLT011\n",
        "HLT012\n",
        "HLT013\n",
        "HLT014\n",
        "HLT015\n",
        "HLT016\n",
        "HLT017\n",
        "HLT018\n",
        "HLT019\n",
        "HLT020\n",
        "HLT021\n",
        "HLT022\n",
        "HLT023\n",
        "HLT024\n",
        "HLT025\n",
        "HLT026\n",
        "HLT027\n",
        "HLT028\n",
        "HLT029\n",
        "HLT030\n",
        "HLT031\n",
        "HLT032\n",
        "HLT033\n",
        "HLT034\n",
        "HLT035\n",
        "HLT036\n",
        "HLT037\n",
        "HLT038\n",
        "HLT039\n",
        "HLT040\n",
        "HLT041\n",
        "HLT042\n",
        "HLT043\n",
        "HLT044\n",
        "HLT045\n",
        "HLT046\n",
        "HLT047\n",
        "HLT048\n",
        "HLT049\n",
        "HLT050\n",
        "HLT051\n",
        "HLT052\n",
        "HLT053\n",
        "HLT054\n",
        "HLT055\n",
        "HLT056\n",
        "HLT057\n",
        "HLT058\n",
        "HLT059\n",
        "HLT060\n",
        "HLT061\n",
        "HLT062\n",
        "HLT063\n",
        "HLT064\n",
        "HLT065\n",
        "HLT066\n",
        "HLT067\n",
        "HLT068\n",
        "HLT069\n",
        "HLT070\n",
        "HLT071\n",
        "HLT072\n",
        "HLT073\n",
        "HLT074\n",
        "HLT075\n",
        "HLT076\n",
        "HLT077\n",
        "HLT078\n",
        "HLT079\n",
        "HLT080\n",
        "HLT081\n",
        "HLT082\n",
        "HLT083\n",
        "HLT084\n",
        "HLT085\n",
        "HLT086\n",
        "HLT087\n",
        "HLT088\n",
        "HLT089\n",
        "HLT090\n",
        "HLT091\n",
        "HLT092\n",
        "HLT093\n",
        "HLT094\n",
        "HLT095\n",
        "HLT096\n",
        "HLT097\n",
        "HLT098\n",
        "HLT100\n",
        "HLT101\n",
        "HLT102\n",
        "HLT103\n",
        "HLT104\n",
        "HLT105\n",
        "HLT106\n",
        "HLT107\n",
        "HLT108\n",
        "HLT109\n",
        "HLT110\n",
        "HLT111\n",
        "HLT112\n",
        "HLT113\n",
        "HLT114\n",
        "HLT115\n",
        "HLT116\n",
        "HLT117\n",
        "HLT118\n",
        "HLT119\n",
        "HLT120\n",
        "HLT121\n",
        "HLT122\n",
        "HLT123\n",
        "HLT124\n",
        "HLT125\n",
        "HLT126\n",
        "HLT127\n",
        "HLT128\n",
        "HLT129\n",
        "HLT130\n",
        "HLT131\n",
        "HLT132\n",
        "HLT133\n",
        "HLT134\n",
        "HLT135\n",
        "HLT136\n",
        "HLT137\n",
        "HLT138\n",
        "HLT139\n",
        "HLT140\n",
        "HLT141\n",
        "HLT142\n",
        "HLT143\n",
        "HLT144\n",
        "HLT145\n",
        "HLT146\n",
        "HLT147\n",
        "HLT148\n",
        "HLT149\n",
        "HLT150\n",
        "HLT151\n",
        "HLT152\n",
        "HLT153\n",
        "HLT154\n",
        "HLT155\n",
        "HLT156\n",
        "HLT157\n",
        "HLT158\n",
        "HLT159\n",
        "HLT160\n",
        "HLT161\n",
        "HLT162\n",
        "HLT163\n",
        "HLT164\n",
        "HLT165\n",
        "HLT166\n",
        "HLT167\n",
        "HLT168\n",
        "HLT169\n",
        "HLT170\n",
        "HLT171\n",
        "HLT172\n",
        "HLT173\n",
        "HLT174\n",
        "HLT175\n",
        "HLT176\n",
        "HLT177\n",
        "HLT178\n",
        "HLT179\n",
        "HLT180\n",
        "HLT181\n",
        "HLT182\n",
        "HLT183\n",
        "HLT184\n",
        "HLT185\n",
        "HLT186\n",
        "HLT187\n",
        "HLT188\n",
        "HLT189\n",
        "HLT190\n",
        "HLT191\n",
        "HLT192\n",
        "HLT193\n",
        "HLT194\n",
        "HLT195\n",
        "HLT196\n",
        "HLT197\n",
        "HLT198\n",
        "HLT199\n",
        "HLT200\n",
        "HLT201\n"
       ]
      }
     ],
     "prompt_number": 148
    },
    {
     "cell_type": "markdown",
     "metadata": {},
     "source": [
      "### Actions"
     ]
    },
    {
     "cell_type": "code",
     "collapsed": false,
     "input": [
      "item = document.find_item('fake99')"
     ],
     "language": "python",
     "metadata": {},
     "outputs": [
      {
       "ename": "DoorstopError",
       "evalue": "no matching ID: fake99",
       "output_type": "pyerr",
       "traceback": [
        "\u001b[0;31m---------------------------------------------------------------------------\u001b[0m\n\u001b[0;31mDoorstopError\u001b[0m                             Traceback (most recent call last)",
        "\u001b[0;32m<ipython-input-152-5ae50a452756>\u001b[0m in \u001b[0;36m<module>\u001b[0;34m()\u001b[0m\n\u001b[0;32m----> 1\u001b[0;31m \u001b[0mitem\u001b[0m \u001b[0;34m=\u001b[0m \u001b[0mdocument\u001b[0m\u001b[0;34m.\u001b[0m\u001b[0mfind_item\u001b[0m\u001b[0;34m(\u001b[0m\u001b[0;34m'fake99'\u001b[0m\u001b[0;34m)\u001b[0m\u001b[0;34m\u001b[0m\u001b[0m\n\u001b[0m",
        "\u001b[0;32m/Users/Browning/Drive/Programs/Desktop/Doorstop/doorstop/core/document.py\u001b[0m in \u001b[0;36mfind_item\u001b[0;34m(self, identifier, _kind)\u001b[0m\n\u001b[1;32m    337\u001b[0m                 \u001b[0;32mreturn\u001b[0m \u001b[0mitem\u001b[0m\u001b[0;34m\u001b[0m\u001b[0m\n\u001b[1;32m    338\u001b[0m \u001b[0;34m\u001b[0m\u001b[0m\n\u001b[0;32m--> 339\u001b[0;31m         \u001b[0;32mraise\u001b[0m \u001b[0mDoorstopError\u001b[0m\u001b[0;34m(\u001b[0m\u001b[0;34m\"no matching{} ID: {}\"\u001b[0m\u001b[0;34m.\u001b[0m\u001b[0mformat\u001b[0m\u001b[0;34m(\u001b[0m\u001b[0m_kind\u001b[0m\u001b[0;34m,\u001b[0m \u001b[0midentifier\u001b[0m\u001b[0;34m)\u001b[0m\u001b[0;34m)\u001b[0m\u001b[0;34m\u001b[0m\u001b[0m\n\u001b[0m\u001b[1;32m    340\u001b[0m \u001b[0;34m\u001b[0m\u001b[0m\n\u001b[1;32m    341\u001b[0m     \u001b[0;32mdef\u001b[0m \u001b[0mvalid\u001b[0m\u001b[0;34m(\u001b[0m\u001b[0mself\u001b[0m\u001b[0;34m,\u001b[0m \u001b[0mtree\u001b[0m\u001b[0;34m=\u001b[0m\u001b[0;32mNone\u001b[0m\u001b[0;34m,\u001b[0m \u001b[0mitem_hook\u001b[0m\u001b[0;34m=\u001b[0m\u001b[0;32mNone\u001b[0m\u001b[0;34m)\u001b[0m\u001b[0;34m:\u001b[0m\u001b[0;34m\u001b[0m\u001b[0m\n",
        "\u001b[0;31mDoorstopError\u001b[0m: no matching ID: fake99"
       ]
      }
     ],
     "prompt_number": 152
    },
    {
     "cell_type": "code",
     "collapsed": false,
     "input": [
      "item = document.add()\n",
      "\n",
      "print(item)"
     ],
     "language": "python",
     "metadata": {},
     "outputs": [
      {
       "output_type": "stream",
       "stream": "stdout",
       "text": [
        "HLT203\n"
       ]
      }
     ],
     "prompt_number": 153
    },
    {
     "cell_type": "code",
     "collapsed": false,
     "input": [
      "document.find_item(item.id)"
     ],
     "language": "python",
     "metadata": {},
     "outputs": [
      {
       "metadata": {},
       "output_type": "pyout",
       "prompt_number": 154,
       "text": [
        "Item('/Users/Browning/Drive/Programs/Desktop/Doorstop-Demos/Random/demo/cli/test/docs/HLT203.yml')"
       ]
      }
     ],
     "prompt_number": 154
    },
    {
     "cell_type": "code",
     "collapsed": false,
     "input": [
      "document.remove(item.id)\n"
     ],
     "language": "python",
     "metadata": {},
     "outputs": [
      {
       "metadata": {},
       "output_type": "pyout",
       "prompt_number": 155,
       "text": [
        "Item('/Users/Browning/Drive/Programs/Desktop/Doorstop-Demos/Random/demo/cli/test/docs/HLT203.yml')"
       ]
      }
     ],
     "prompt_number": 155
    },
    {
     "cell_type": "code",
     "collapsed": false,
     "input": [
      "document.find_item(item.id)"
     ],
     "language": "python",
     "metadata": {},
     "outputs": [
      {
       "ename": "DoorstopError",
       "evalue": "no matching ID: HLT203",
       "output_type": "pyerr",
       "traceback": [
        "\u001b[0;31m---------------------------------------------------------------------------\u001b[0m\n\u001b[0;31mDoorstopError\u001b[0m                             Traceback (most recent call last)",
        "\u001b[0;32m<ipython-input-156-50fc0457a483>\u001b[0m in \u001b[0;36m<module>\u001b[0;34m()\u001b[0m\n\u001b[0;32m----> 1\u001b[0;31m \u001b[0mdocument\u001b[0m\u001b[0;34m.\u001b[0m\u001b[0mfind_item\u001b[0m\u001b[0;34m(\u001b[0m\u001b[0mitem\u001b[0m\u001b[0;34m.\u001b[0m\u001b[0mid\u001b[0m\u001b[0;34m)\u001b[0m\u001b[0;34m\u001b[0m\u001b[0m\n\u001b[0m",
        "\u001b[0;32m/Users/Browning/Drive/Programs/Desktop/Doorstop/doorstop/core/document.py\u001b[0m in \u001b[0;36mfind_item\u001b[0;34m(self, identifier, _kind)\u001b[0m\n\u001b[1;32m    337\u001b[0m                 \u001b[0;32mreturn\u001b[0m \u001b[0mitem\u001b[0m\u001b[0;34m\u001b[0m\u001b[0m\n\u001b[1;32m    338\u001b[0m \u001b[0;34m\u001b[0m\u001b[0m\n\u001b[0;32m--> 339\u001b[0;31m         \u001b[0;32mraise\u001b[0m \u001b[0mDoorstopError\u001b[0m\u001b[0;34m(\u001b[0m\u001b[0;34m\"no matching{} ID: {}\"\u001b[0m\u001b[0;34m.\u001b[0m\u001b[0mformat\u001b[0m\u001b[0;34m(\u001b[0m\u001b[0m_kind\u001b[0m\u001b[0;34m,\u001b[0m \u001b[0midentifier\u001b[0m\u001b[0;34m)\u001b[0m\u001b[0;34m)\u001b[0m\u001b[0;34m\u001b[0m\u001b[0m\n\u001b[0m\u001b[1;32m    340\u001b[0m \u001b[0;34m\u001b[0m\u001b[0m\n\u001b[1;32m    341\u001b[0m     \u001b[0;32mdef\u001b[0m \u001b[0mvalid\u001b[0m\u001b[0;34m(\u001b[0m\u001b[0mself\u001b[0m\u001b[0;34m,\u001b[0m \u001b[0mtree\u001b[0m\u001b[0;34m=\u001b[0m\u001b[0;32mNone\u001b[0m\u001b[0;34m,\u001b[0m \u001b[0mitem_hook\u001b[0m\u001b[0;34m=\u001b[0m\u001b[0;32mNone\u001b[0m\u001b[0;34m)\u001b[0m\u001b[0;34m:\u001b[0m\u001b[0;34m\u001b[0m\u001b[0m\n",
        "\u001b[0;31mDoorstopError\u001b[0m: no matching ID: HLT203"
       ]
      }
     ],
     "prompt_number": 156
    },
    {
     "cell_type": "markdown",
     "metadata": {},
     "source": [
      "### Creation + Deletion"
     ]
    },
    {
     "cell_type": "code",
     "collapsed": false,
     "input": [
      "import tempfile\n",
      "from doorstop import Document\n",
      "\n",
      "path = root = tempfile.mkdtemp()\n",
      "\n",
      "document = Document.new(path, root, 'PREF')\n",
      "\n",
      "print(document)"
     ],
     "language": "python",
     "metadata": {},
     "outputs": [
      {
       "output_type": "stream",
       "stream": "stdout",
       "text": [
        "PREF\n"
       ]
      }
     ],
     "prompt_number": 157
    },
    {
     "cell_type": "code",
     "collapsed": false,
     "input": [
      "print(path)\n",
      "\n",
      "document2 = Document(path)\n",
      "\n",
      "print(repr(document))"
     ],
     "language": "python",
     "metadata": {},
     "outputs": [
      {
       "output_type": "stream",
       "stream": "stdout",
       "text": [
        "/var/folders/44/1dmfscsx0qxf40k1_zdjlvcr0000gn/T/tmpjp7dze\n",
        "Document('/var/folders/44/1dmfscsx0qxf40k1_zdjlvcr0000gn/T/tmpjp7dze')\n"
       ]
      }
     ],
     "prompt_number": 158
    },
    {
     "cell_type": "code",
     "collapsed": false,
     "input": [
      "document.delete()"
     ],
     "language": "python",
     "metadata": {},
     "outputs": [],
     "prompt_number": 159
    },
    {
     "cell_type": "markdown",
     "metadata": {},
     "source": [
      "## Trees"
     ]
    },
    {
     "cell_type": "code",
     "collapsed": false,
     "input": [
      "tree = doorstop.build()\n",
      "\n",
      "print(tree)"
     ],
     "language": "python",
     "metadata": {},
     "outputs": [
      {
       "output_type": "stream",
       "stream": "stdout",
       "text": [
        "SYS <- [ HLR <- [ HLT, LLR <- [ LLT ] ] ]\n"
       ]
      }
     ],
     "prompt_number": 160
    },
    {
     "cell_type": "markdown",
     "metadata": {},
     "source": [
      "### Properites"
     ]
    },
    {
     "cell_type": "code",
     "collapsed": false,
     "input": [
      "print(\"vcs:\", tree.vcs)"
     ],
     "language": "python",
     "metadata": {},
     "outputs": [
      {
       "output_type": "stream",
       "stream": "stdout",
       "text": [
        "vcs: <doorstop.core.vcs.git.WorkingCopy object at 0x1073bdd50>\n"
       ]
      }
     ],
     "prompt_number": 161
    },
    {
     "cell_type": "markdown",
     "metadata": {},
     "source": [
      "### Actions"
     ]
    },
    {
     "cell_type": "code",
     "collapsed": false,
     "input": [
      "path = os.path.join(tree.root, 'a', 'temporaty', 'directory')\n",
      "document = tree.new(path, 'TMP', parent='SYS')\n",
      "\n",
      "print(document.relpath)\n",
      "\n",
      "document.delete()"
     ],
     "language": "python",
     "metadata": {},
     "outputs": [
      {
       "output_type": "stream",
       "stream": "stdout",
       "text": [
        "@/a/temporaty/directory\n"
       ]
      }
     ],
     "prompt_number": 162
    },
    {
     "cell_type": "code",
     "collapsed": false,
     "input": [
      "item = tree.add('sys')\n",
      "\n",
      "print(item.relpath)"
     ],
     "language": "python",
     "metadata": {},
     "outputs": [
      {
       "output_type": "stream",
       "stream": "stderr",
       "text": [
        "WARNING:root:git does not support locking: /Users/Browning/Drive/Programs/Desktop/Doorstop-Demos/Random/reqs/sys/.doorstop.yml\n"
       ]
      },
      {
       "output_type": "stream",
       "stream": "stdout",
       "text": [
        "@/reqs/sys/SYS051.yml\n"
       ]
      }
     ],
     "prompt_number": 163
    },
    {
     "cell_type": "code",
     "collapsed": false,
     "input": [
      "tree.remove(item.id)"
     ],
     "language": "python",
     "metadata": {},
     "outputs": [
      {
       "output_type": "stream",
       "stream": "stderr",
       "text": [
        "WARNING:root:already deleted: SYS051\n"
       ]
      },
      {
       "metadata": {},
       "output_type": "pyout",
       "prompt_number": 115,
       "text": [
        "Item('/Users/Browning/Drive/Programs/Desktop/Doorstop-Demos/Random/reqs/sys/SYS051.yml')"
       ]
      }
     ],
     "prompt_number": 115
    },
    {
     "cell_type": "code",
     "collapsed": false,
     "input": [
      "tree.link('llt42', 'hlr2')"
     ],
     "language": "python",
     "metadata": {},
     "outputs": [
      {
       "metadata": {},
       "output_type": "pyout",
       "prompt_number": 116,
       "text": [
        "(Item('/Users/Browning/Drive/Programs/Desktop/Doorstop-Demos/Random/demo/core/test/docs/LLT042.yml'),\n",
        " Item('/Users/Browning/Drive/Programs/Desktop/Doorstop-Demos/Random/reqs/hlr/HLR002.yml'))"
       ]
      }
     ],
     "prompt_number": 116
    },
    {
     "cell_type": "code",
     "collapsed": false,
     "input": [
      "tree.unlink('llt42', 'hlr2')"
     ],
     "language": "python",
     "metadata": {},
     "outputs": [
      {
       "metadata": {},
       "output_type": "pyout",
       "prompt_number": 118,
       "text": [
        "(Item('/Users/Browning/Drive/Programs/Desktop/Doorstop-Demos/Random/demo/core/test/docs/LLT042.yml'),\n",
        " Item('/Users/Browning/Drive/Programs/Desktop/Doorstop-Demos/Random/reqs/hlr/HLR002.yml'))"
       ]
      }
     ],
     "prompt_number": 118
    },
    {
     "cell_type": "markdown",
     "metadata": {},
     "source": [
      "# Validation"
     ]
    },
    {
     "cell_type": "code",
     "collapsed": false,
     "input": [
      "tree = doorstop.build()\n",
      "\n",
      "\n"
     ],
     "language": "python",
     "metadata": {},
     "outputs": [],
     "prompt_number": 168
    },
    {
     "cell_type": "code",
     "collapsed": false,
     "input": [
      "for issue in tree.issues():\n",
      "    print(issue)"
     ],
     "language": "python",
     "metadata": {},
     "outputs": [
      {
       "output_type": "stream",
       "stream": "stdout",
       "text": [
        "SYS: SYS051: no text\n",
        "SYS: SYS051: no links from child document: HLR"
       ]
      },
      {
       "output_type": "stream",
       "stream": "stdout",
       "text": [
        "\n",
        "HLR: HLR002: no links to parent document: SYS\n",
        "HLT: HLT201: no text"
       ]
      },
      {
       "output_type": "stream",
       "stream": "stdout",
       "text": [
        "\n",
        "HLT: HLT201: no links to parent document: HLR\n",
        "HLT: HLT202: no text\n",
        "HLT: HLT202: no links to parent document: HLR\n",
        "LLR: LLR002: linked to non-parent item: fake99\n",
        "LLR: LLR002: linked to unknown item: fake99"
       ]
      },
      {
       "output_type": "stream",
       "stream": "stdout",
       "text": [
        "\n"
       ]
      }
     ],
     "prompt_number": 169
    },
    {
     "cell_type": "code",
     "collapsed": false,
     "input": [
      "item = tree.find_item('hlr2')\n",
      "item.links = []\n",
      "\n",
      "\n",
      "item = tree.find_item('llr2')\n",
      "item.add_link('fake99')\n",
      "\n",
      "\n",
      "for issue in tree.issues():\n",
      "    print(issue)"
     ],
     "language": "python",
     "metadata": {},
     "outputs": [
      {
       "output_type": "stream",
       "stream": "stdout",
       "text": [
        "SYS: SYS051: no text\n",
        "SYS: SYS051: no links from child document: HLR\n",
        "HLR: HLR002: no links to parent document: SYS\n",
        "HLT: HLT201: no text"
       ]
      },
      {
       "output_type": "stream",
       "stream": "stdout",
       "text": [
        "\n",
        "HLT: HLT201: no links to parent document: HLR\n",
        "HLT: HLT202: no text\n",
        "HLT: HLT202: no links to parent document: HLR\n",
        "LLR: LLR002: linked to non-parent item: fake99\n",
        "LLR: LLR002: linked to unknown item: fake99\n"
       ]
      }
     ],
     "prompt_number": 170
    },
    {
     "cell_type": "code",
     "collapsed": false,
     "input": [
      "from doorstop.common import DoorstopWarning, DoorstopInfo\n",
      "\n",
      "def document_hook(document, tree):\n",
      "    if len(document.items) <= 50:\n",
      "        yield DoorstopInfo(\"50 or fewer items\")\n",
      "\n",
      "def item_hook(item, document, tree):\n",
      "    if 'tempora' in item.text:\n",
      "        yield DoorstopWarning(\"'tempora' in text\")\n",
      "\n",
      "for issue in tree.issues(document_hook=document_hook, item_hook=item_hook):\n",
      "    print(issue)"
     ],
     "language": "python",
     "metadata": {},
     "outputs": [
      {
       "output_type": "stream",
       "stream": "stdout",
       "text": [
        "SYS: SYS012: 'tempora' in text\n",
        "SYS: SYS047: 'tempora' in text"
       ]
      },
      {
       "output_type": "stream",
       "stream": "stdout",
       "text": [
        "\n",
        "SYS: SYS051: no text\n",
        "SYS: SYS051: no links from child document: HLR\n",
        "HLR: HLR002: 'tempora' in text\n",
        "HLR: HLR002: no links to parent document: SYS\n",
        "HLR: HLR013: 'tempora' in text"
       ]
      },
      {
       "output_type": "stream",
       "stream": "stdout",
       "text": [
        "\n",
        "HLR: HLR053: 'tempora' in text"
       ]
      },
      {
       "output_type": "stream",
       "stream": "stdout",
       "text": [
        "\n",
        "HLT: HLT031: 'tempora' in text"
       ]
      },
      {
       "output_type": "stream",
       "stream": "stdout",
       "text": [
        "\n",
        "HLT: HLT037: 'tempora' in text\n",
        "HLT: HLT054: 'tempora' in text"
       ]
      },
      {
       "output_type": "stream",
       "stream": "stdout",
       "text": [
        "\n",
        "HLT: HLT064: 'tempora' in text"
       ]
      },
      {
       "output_type": "stream",
       "stream": "stdout",
       "text": [
        "\n",
        "HLT: HLT120: 'tempora' in text"
       ]
      },
      {
       "output_type": "stream",
       "stream": "stdout",
       "text": [
        "\n",
        "HLT: HLT129: 'tempora' in text\n",
        "HLT: HLT162: 'tempora' in text"
       ]
      },
      {
       "output_type": "stream",
       "stream": "stdout",
       "text": [
        "\n",
        "HLT: HLT170: 'tempora' in text\n",
        "HLT: HLT193: 'tempora' in text"
       ]
      },
      {
       "output_type": "stream",
       "stream": "stdout",
       "text": [
        "\n",
        "HLT: HLT201: no text\n",
        "HLT: HLT201: no links to parent document: HLR\n",
        "HLT: HLT202: no text\n",
        "HLT: HLT202: no links to parent document: HLR\n",
        "LLR: LLR002: linked to non-parent item: fake99"
       ]
      },
      {
       "output_type": "stream",
       "stream": "stdout",
       "text": [
        "\n",
        "LLR: LLR002: linked to unknown item: fake99\n",
        "LLR: LLR005: 'tempora' in text"
       ]
      },
      {
       "output_type": "stream",
       "stream": "stdout",
       "text": [
        "\n",
        "LLR: LLR011: 'tempora' in text"
       ]
      },
      {
       "output_type": "stream",
       "stream": "stdout",
       "text": [
        "\n",
        "LLR: LLR017: 'tempora' in text\n",
        "LLR: LLR128: 'tempora' in text"
       ]
      },
      {
       "output_type": "stream",
       "stream": "stdout",
       "text": [
        "\n",
        "LLR: LLR137: 'tempora' in text\n",
        "LLR: LLR140: 'tempora' in text"
       ]
      },
      {
       "output_type": "stream",
       "stream": "stdout",
       "text": [
        "\n",
        "LLR: LLR148: 'tempora' in text\n",
        "LLR: LLR166: 'tempora' in text"
       ]
      },
      {
       "output_type": "stream",
       "stream": "stdout",
       "text": [
        "\n",
        "LLT: LLT077: 'tempora' in text"
       ]
      },
      {
       "output_type": "stream",
       "stream": "stdout",
       "text": [
        "\n",
        "LLT: LLT080: 'tempora' in text\n",
        "LLT: LLT099: 'tempora' in text"
       ]
      },
      {
       "output_type": "stream",
       "stream": "stdout",
       "text": [
        "\n",
        "LLT: LLT155: 'tempora' in text"
       ]
      },
      {
       "output_type": "stream",
       "stream": "stdout",
       "text": [
        "\n",
        "LLT: LLT157: 'tempora' in text\n",
        "LLT: LLT178: 'tempora' in text"
       ]
      },
      {
       "output_type": "stream",
       "stream": "stdout",
       "text": [
        "\n",
        "LLT: LLT206: 'tempora' in text"
       ]
      },
      {
       "output_type": "stream",
       "stream": "stdout",
       "text": [
        "\n",
        "LLT: LLT264: 'tempora' in text"
       ]
      },
      {
       "output_type": "stream",
       "stream": "stdout",
       "text": [
        "\n",
        "LLT: LLT278: 'tempora' in text"
       ]
      },
      {
       "output_type": "stream",
       "stream": "stdout",
       "text": [
        "\n",
        "LLT: LLT279: 'tempora' in text\n",
        "LLT: LLT343: 'tempora' in text"
       ]
      },
      {
       "output_type": "stream",
       "stream": "stdout",
       "text": [
        "\n",
        "LLT: LLT352: 'tempora' in text\n",
        "LLT: LLT364: 'tempora' in text"
       ]
      },
      {
       "output_type": "stream",
       "stream": "stdout",
       "text": [
        "\n"
       ]
      }
     ],
     "prompt_number": 171
    }
   ],
   "metadata": {}
  }
 ]
}